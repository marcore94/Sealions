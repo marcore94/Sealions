{
 "cells": [
  {
   "cell_type": "code",
   "execution_count": 1,
   "metadata": {},
   "outputs": [],
   "source": [
    "import numpy as np\n",
    "import cv2\n",
    "import matplotlib.pyplot as plt\n",
    "import skimage.feature\n",
    "import pandas as pd\n",
    "%matplotlib inline"
   ]
  },
  {
   "cell_type": "code",
   "execution_count": 2,
   "metadata": {},
   "outputs": [],
   "source": [
    "# data initialization\n",
    "bad_images = [3, 7, 9, 21, 30, 34, 71, 77, 81, 89, 97, 151, 184, 215, 234, 242, 268, 290, 311, 331, 344, 380, 384, 406,\n",
    "              421, 469, 475, 489, 490, 499, 507, 530, 531, 593, 605, 607, 614, 621, 638, 644, 687, 712, 721, 767, 779,\n",
    "              781, 794, 800, 811, 813, 839, 840, 869, 882, 901, 903, 905, 909, 913, 927, 946]\n",
    "\n",
    "file_names_train = [str(x) + '.jpg' for x in range(0, 750) if x not in bad_images]\n",
    "file_names_test = [str(x) + '.jpg' for x in range(751, 947) if x not in bad_images]\n",
    "classes = [\"adult_males\", \"subadult_males\", \"adult_females\", \"juveniles\", \"pups\"]\n",
    "coordinates_train_df = pd.DataFrame(index=file_names_train, columns=classes)\n",
    "coordinates_test_df = pd.DataFrame(index=file_names_test, columns=classes)"
   ]
  },
  {
   "cell_type": "code",
   "execution_count": 3,
   "metadata": {},
   "outputs": [
    {
     "ename": "KeyboardInterrupt",
     "evalue": "",
     "traceback": [
      "\u001b[1;31m---------------------------------------------------------------------------\u001b[0m",
      "\u001b[1;31mKeyboardInterrupt\u001b[0m                         Traceback (most recent call last)",
      "\u001b[1;32m<ipython-input-3-1363ca9a727e>\u001b[0m in \u001b[0;36m<module>\u001b[1;34m()\u001b[0m\n\u001b[0;32m     65\u001b[0m \u001b[1;33m\u001b[0m\u001b[0m\n\u001b[0;32m     66\u001b[0m \u001b[1;33m\u001b[0m\u001b[0m\n\u001b[1;32m---> 67\u001b[1;33m \u001b[0msealions_train\u001b[0m \u001b[1;33m=\u001b[0m \u001b[0mget_coordinates\u001b[0m\u001b[1;33m(\u001b[0m\u001b[0mfile_names_train\u001b[0m\u001b[1;33m)\u001b[0m\u001b[1;33m\u001b[0m\u001b[0m\n\u001b[0m\u001b[0;32m     68\u001b[0m \u001b[0msealions_test\u001b[0m \u001b[1;33m=\u001b[0m \u001b[0mget_coordinates\u001b[0m\u001b[1;33m(\u001b[0m\u001b[0mfile_names_test\u001b[0m\u001b[1;33m)\u001b[0m\u001b[1;33m\u001b[0m\u001b[0m\n",
      "\u001b[1;32m<ipython-input-3-1363ca9a727e>\u001b[0m in \u001b[0;36mget_coordinates\u001b[1;34m(file_names)\u001b[0m\n\u001b[0;32m     23\u001b[0m \u001b[1;33m\u001b[0m\u001b[0m\n\u001b[0;32m     24\u001b[0m         \u001b[1;31m# convert to grayscale to be accepted by skimage.feature.blob_log\u001b[0m\u001b[1;33m\u001b[0m\u001b[1;33m\u001b[0m\u001b[0m\n\u001b[1;32m---> 25\u001b[1;33m         \u001b[0mimage_3\u001b[0m \u001b[1;33m=\u001b[0m \u001b[0mcv2\u001b[0m\u001b[1;33m.\u001b[0m\u001b[0mcvtColor\u001b[0m\u001b[1;33m(\u001b[0m\u001b[0mimage_3\u001b[0m\u001b[1;33m,\u001b[0m \u001b[0mcv2\u001b[0m\u001b[1;33m.\u001b[0m\u001b[0mCOLOR_BGR2GRAY\u001b[0m\u001b[1;33m)\u001b[0m\u001b[1;33m\u001b[0m\u001b[0m\n\u001b[0m\u001b[0;32m     26\u001b[0m \u001b[1;33m\u001b[0m\u001b[0m\n\u001b[0;32m     27\u001b[0m         \u001b[1;31m# detect blobs\u001b[0m\u001b[1;33m\u001b[0m\u001b[1;33m\u001b[0m\u001b[0m\n",
      "\u001b[1;31mKeyboardInterrupt\u001b[0m: "
     ],
     "output_type": "error"
    }
   ],
   "source": [
    "def get_coordinates(file_names):\n",
    "    sealions = []\n",
    "    # get coordinates\n",
    "    for filename in file_names:\n",
    "        # read the Train and Train Dotted images\n",
    "        image_1 = cv2.imread(\"./kaggle_sea_lions/TrainDotted/\" + filename)\n",
    "        image_2 = cv2.imread(\"./kaggle_sea_lions/Train/\" + filename)\n",
    "\n",
    "        # absolute difference between Train and Train Dotted\n",
    "        image_3 = cv2.absdiff(image_1, image_2)\n",
    "\n",
    "        # mask out blackened regions from Train Dotted\n",
    "        mask_1 = cv2.cvtColor(image_1, cv2.COLOR_BGR2GRAY)\n",
    "        mask_1[mask_1 < 20] = 0\n",
    "        mask_1[mask_1 > 0] = 255\n",
    "\n",
    "        mask_2 = cv2.cvtColor(image_2, cv2.COLOR_BGR2GRAY)\n",
    "        mask_2[mask_2 < 20] = 0\n",
    "        mask_2[mask_2 > 0] = 255\n",
    "\n",
    "        image_3 = cv2.bitwise_or(image_3, image_3, mask=mask_1)\n",
    "        image_3 = cv2.bitwise_or(image_3, image_3, mask=mask_2)\n",
    "\n",
    "        # convert to grayscale to be accepted by skimage.feature.blob_log\n",
    "        image_3 = cv2.cvtColor(image_3, cv2.COLOR_BGR2GRAY)\n",
    "\n",
    "        # detect blobs\n",
    "        blobs = skimage.feature.blob_log(image_3, min_sigma=3, max_sigma=4, num_sigma=1, threshold=0.02)\n",
    "\n",
    "        #adult_males = []\n",
    "        #subadult_males = []\n",
    "        #pups = []\n",
    "        #juveniles = []\n",
    "        #adult_females = []\n",
    "\n",
    "        for blob in blobs:\n",
    "            # get the coordinates for each blob\n",
    "            y, x, s = blob\n",
    "            # get the color of the pixel from Train Dotted in the center of the blob\n",
    "            g, b, r = image_1[int(y)][int(x)][:]\n",
    "\n",
    "            # decision tree to pick the class of the blob by looking at the color in Train Dotted\n",
    "            if r > 200 and g < 50 and b < 50:  # RED\n",
    "                #adult_males.append((int(x), int(y)))\n",
    "                sealions.append((int(x), int(y), \"adult_male\", filename))\n",
    "            elif r > 200 and g > 200 and b < 50:  # MAGENTA\n",
    "                #subadult_males.append((int(x), int(y)))\n",
    "                sealions.append((int(x), int(y), \"subadult_male\", filename))\n",
    "            elif r < 100 and g < 100 and 150 < b < 200:  # GREEN\n",
    "                #pups.append((int(x), int(y)))\n",
    "                sealions.append((int(x), int(y), \"pup\", filename))\n",
    "            elif r < 100 and  100 < g and b < 100:  # BLUE\n",
    "                #juveniles.append((int(x), int(y)))\n",
    "                sealions.append((int(x), int(y), \"juvenile\", filename))\n",
    "            elif r < 150 and g < 50 and b < 100:  # BROWN\n",
    "                #adult_females.append((int(x), int(y)))\n",
    "                sealions.append((int(x), int(y), \"adult_female\", filename))\n",
    "\n",
    "        #coordinates_df[\"adult_males\"][filename] = adult_males\n",
    "        #coordinates_df[\"subadult_males\"][filename] = subadult_males\n",
    "        #coordinates_df[\"adult_females\"][filename] = adult_females\n",
    "        #coordinates_df[\"juveniles\"][filename] = juveniles\n",
    "        #coordinates_df[\"pups\"][filename] = pups\n",
    "    return sealions\n",
    "\n",
    "\n",
    "sealions_train = get_coordinates(file_names_train)\n",
    "sealions_test = get_coordinates(file_names_test)"
   ]
  },
  {
   "cell_type": "code",
   "execution_count": 3,
   "metadata": {},
   "outputs": [
    {
     "name": "stderr",
     "output_type": "stream",
     "text": [
      "[Parallel(n_jobs=4)]: Done  42 tasks      | elapsed:  1.0min\n"
     ]
    },
    {
     "name": "stderr",
     "output_type": "stream",
     "text": [
      "[Parallel(n_jobs=4)]: Done 192 tasks      | elapsed:  4.5min\n"
     ]
    },
    {
     "name": "stderr",
     "output_type": "stream",
     "text": [
      "[Parallel(n_jobs=4)]: Done 442 tasks      | elapsed: 10.3min\n"
     ]
    },
    {
     "name": "stderr",
     "output_type": "stream",
     "text": [
      "[Parallel(n_jobs=4)]: Done 707 out of 707 | elapsed: 16.4min finished\n"
     ]
    },
    {
     "name": "stderr",
     "output_type": "stream",
     "text": [
      "[Parallel(n_jobs=4)]: Done  42 tasks      | elapsed:  1.0min\n"
     ]
    },
    {
     "name": "stderr",
     "output_type": "stream",
     "text": [
      "[Parallel(n_jobs=4)]: Done 178 out of 178 | elapsed:  4.1min finished\n"
     ]
    }
   ],
   "source": [
    "import joblib\n",
    "from joblib import Parallel, delayed\n",
    "from functools import reduce\n",
    "\n",
    "def get_coordinates(filename):\n",
    "    sealions = []\n",
    "    # get coordinates\n",
    "    # read the Train and Train Dotted images\n",
    "    image_1 = cv2.imread(\"./kaggle_sea_lions/TrainDotted/\" + filename)\n",
    "    image_2 = cv2.imread(\"./kaggle_sea_lions/Train/\" + filename)\n",
    "\n",
    "    # absolute difference between Train and Train Dotted\n",
    "    image_3 = cv2.absdiff(image_1, image_2)\n",
    "\n",
    "    # mask out blackened regions from Train Dotted\n",
    "    mask_1 = cv2.cvtColor(image_1, cv2.COLOR_BGR2GRAY)\n",
    "    mask_1[mask_1 < 20] = 0\n",
    "    mask_1[mask_1 > 0] = 255\n",
    "\n",
    "    mask_2 = cv2.cvtColor(image_2, cv2.COLOR_BGR2GRAY)\n",
    "    mask_2[mask_2 < 20] = 0\n",
    "    mask_2[mask_2 > 0] = 255\n",
    "\n",
    "    image_3 = cv2.bitwise_or(image_3, image_3, mask=mask_1)\n",
    "    image_3 = cv2.bitwise_or(image_3, image_3, mask=mask_2)\n",
    "\n",
    "    # convert to grayscale to be accepted by skimage.feature.blob_log\n",
    "    image_3 = cv2.cvtColor(image_3, cv2.COLOR_BGR2GRAY)\n",
    "\n",
    "    # detect blobs\n",
    "    blobs = skimage.feature.blob_log(image_3, min_sigma=3, max_sigma=4, num_sigma=1, threshold=0.02)\n",
    "\n",
    "    #adult_males = []\n",
    "    #subadult_males = []\n",
    "    #pups = []\n",
    "    #juveniles = []\n",
    "    #adult_females = []\n",
    "\n",
    "    for blob in blobs:\n",
    "        # get the coordinates for each blob\n",
    "        y, x, s = blob\n",
    "        # get the color of the pixel from Train Dotted in the center of the blob\n",
    "        g, b, r = image_1[int(y)][int(x)][:]\n",
    "\n",
    "        # decision tree to pick the class of the blob by looking at the color in Train Dotted\n",
    "        if r > 200 and g < 50 and b < 50:  # RED\n",
    "            #adult_males.append((int(x), int(y)))\n",
    "            sealions.append((int(x), int(y), \"adult_male\", filename))\n",
    "        elif r > 200 and g > 200 and b < 50:  # MAGENTA\n",
    "            #subadult_males.append((int(x), int(y)))\n",
    "            sealions.append((int(x), int(y), \"subadult_male\", filename))\n",
    "        elif r < 100 and g < 100 and 150 < b < 200:  # GREEN\n",
    "            #pups.append((int(x), int(y)))\n",
    "            sealions.append((int(x), int(y), \"pup\", filename))\n",
    "        elif r < 100 and  100 < g and b < 100:  # BLUE\n",
    "            #juveniles.append((int(x), int(y)))\n",
    "            sealions.append((int(x), int(y), \"juvenile\", filename))\n",
    "        elif r < 150 and g < 50 and b < 100:  # BROWN\n",
    "            #adult_females.append((int(x), int(y)))\n",
    "            sealions.append((int(x), int(y), \"adult_female\", filename))\n",
    "\n",
    "    #coordinates_df[\"adult_males\"][filename] = adult_males\n",
    "    #coordinates_df[\"subadult_males\"][filename] = subadult_males\n",
    "    #coordinates_df[\"adult_females\"][filename] = adult_females\n",
    "    #coordinates_df[\"juveniles\"][filename] = juveniles\n",
    "    #coordinates_df[\"pups\"][filename] = pups\n",
    "    return sealions\n",
    "\n",
    "\n",
    "sealions_train = Parallel(n_jobs=4, verbose=1, backend=\"threading\")(map(delayed(get_coordinates), file_names_train))\n",
    "sealions_train = reduce(lambda x, y: x+y, sealions_train)\n",
    "sealions_test = Parallel(n_jobs=4, verbose=1, backend=\"threading\")(map(delayed(get_coordinates), file_names_test))\n",
    "sealions_test = reduce(lambda x, y: x+y, sealions_test)"
   ]
  },
  {
   "cell_type": "code",
   "execution_count": 4,
   "metadata": {},
   "outputs": [],
   "source": [
    "# save coordinates\n",
    "length = len(sealions_train)\n",
    "sealions_validation = sealions_train[int(length*0.8):]\n",
    "sealions_train = sealions_train[:int(length*0.8)]\n",
    "\n",
    "sealions_train_df = pd.DataFrame(data=sealions_train, columns=[\"coord_x\", \"coord_y\", \"class\", \"filename\"])\n",
    "sealions_train_df.to_csv(\"./sealions_train.csv\", index=False)\n",
    "\n",
    "sealions_validation_df = pd.DataFrame(data=sealions_validation, columns=[\"coord_x\", \"coord_y\", \"class\", \"filename\"])\n",
    "sealions_validation_df.to_csv(\"./sealions_validation.csv\", index=False)\n",
    "\n",
    "sealions_test_df = pd.DataFrame(data=sealions_test, columns=[\"coord_x\", \"coord_y\", \"class\", \"filename\"])\n",
    "sealions_test_df.to_csv(\"./sealions_test.csv\", index=False)"
   ]
  },
  {
   "cell_type": "code",
   "execution_count": 26,
   "metadata": {},
   "outputs": [],
   "source": [
    ""
   ]
  },
  {
   "cell_type": "code",
   "execution_count": 4,
   "metadata": {},
   "outputs": [],
   "source": []
  },
  {
   "cell_type": "code",
   "execution_count": null,
   "metadata": {},
   "outputs": [],
   "source": []
  }
 ],
 "metadata": {
  "kernelspec": {
   "display_name": "Python 3",
   "language": "python",
   "name": "python3"
  },
  "language_info": {
   "codemirror_mode": {
    "name": "ipython",
    "version": 3
   },
   "file_extension": ".py",
   "mimetype": "text/x-python",
   "name": "python",
   "nbconvert_exporter": "python",
   "pygments_lexer": "ipython3",
   "version": "3.5.3rc1"
  }
 },
 "nbformat": 4,
 "nbformat_minor": 2
}
