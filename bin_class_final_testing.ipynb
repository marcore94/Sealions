{
 "cells": [
  {
   "cell_type": "code",
   "execution_count": null,
   "metadata": {
    "collapsed": true
   },
   "outputs": [],
   "source": [
    "import keras\n",
    "import cv2\n",
    "from skimage.transform import rotate, resize, SimilarityTransform, warp\n",
    "import os\n",
    "import numpy as np\n",
    "import random as rand\n",
    "import pandas as pd\n",
    "import matplotlib.pyplot as plt\n",
    "from keras.preprocessing.image import ImageDataGenerator, array_to_img, img_to_array\n",
    "from keras.models import Sequential\n",
    "from keras.layers import Convolution2D, MaxPooling2D\n",
    "from keras.layers import Flatten, Dense\n",
    "from keras.utils.training_utils import multi_gpu_model\n",
    "from sklearn import metrics\n",
    "from sklearn.metrics import precision_recall_curve\n",
    "from sklearn.metrics import average_precision_score\n",
    "%matplotlib inline"
   ]
  },
  {
   "cell_type": "code",
   "execution_count": null,
   "metadata": {},
   "outputs": [],
   "source": [
    "INPUT_SHAPE = (96, 96, 3)\n",
    "IM_HEIGHT = 96\n",
    "IM_WIDTH = 96\n",
    "OUTPUT_SIZE = 2\n",
    "\n",
    "LEARNING_RATE = 0.0005\n",
    "OPTIMIZER = keras.optimizers.Adam(lr=LEARNING_RATE)\n",
    "LOSS = 'binary_crossentropy'\n",
    "METRIC = 'accuracy'\n",
    "\n",
    "SL_TRAIN_SIZE = 40411\n",
    "SL_VALIDATION_SIZE = 9668\n",
    "SL_TEST_SIZE = 13539\n",
    "BKG_TEST_SIZE = 278613\n",
    "EPOCHS = 30\n",
    "VALIDATION_SPLIT = 0.2\n",
    "BATCH_SIZE = 50\n",
    "STEPS_PER_EPOCH = (2 * SL_TRAIN_SIZE) // BATCH_SIZE + 1\n",
    "VALIDATION_STEPS_PER_EPOCH = (2 * SL_VALIDATION_SIZE) // BATCH_SIZE + 1\n",
    "MAX_EPOCHS_WITH_SAME_DATA_SET = 20\n",
    "TEST_STEPS = (SL_TEST_SIZE + BKG_TEST_SIZE) // BATCH_SIZE + 1\n",
    "\n",
    "TRAIN_PATH = \"./data_set/train/\"\n",
    "VALIDATION_PATH = \"./data_set/validation/\"\n",
    "TEST_PATH = \"./data_set/test/\"\n",
    "\n",
    "MODEL_PATH = \"./binary_classifier/net_2_model.h5\"\n",
    "\n",
    "MR_CKPT_PATH = \"./binary_classifier/net_2_most_recent_checkpoint.hdf5\"\n",
    "CB_CKPT_PATH = \"./binary_classifier/net_2_current_best_checkpoint.hdf5\""
   ]
  },
  {
   "cell_type": "code",
   "execution_count": null,
   "metadata": {},
   "outputs": [],
   "source": [
    "# Load model\n",
    "\n",
    "model = keras.models.load_model(MODEL_PATH)"
   ]
  },
  {
   "cell_type": "code",
   "execution_count": null,
   "metadata": {},
   "outputs": [],
   "source": [
    "# Test\n",
    "\n",
    "test_datagen = ImageDataGenerator(rescale=1./255)\n",
    "# Evaluate model on test data through flow_from_directory\n",
    "loss_and_metrics = model.evaluate_generator(test_datagen.flow_from_directory(\n",
    "    directory=TEST_PATH, \n",
    "    target_size=(IM_HEIGHT, IM_WIDTH),\n",
    "    classes=['0_sea_lions', '1_background'],\n",
    "    batch_size=BATCH_SIZE\n",
    "), steps=TEST_STEPS, workers=8, max_queue_size=50)\n",
    "\n",
    "print(\"%s: %.2f%%\" % (model.metrics_names[1], loss_and_metrics[1]*100))"
   ]
  },
  {
   "cell_type": "code",
   "execution_count": null,
   "metadata": {},
   "outputs": [],
   "source": [
    "def prediction_generator_ffd():\n",
    "    test_gen = ImageDataGenerator(rescale=1./255)\n",
    "    for x, y in test_gen.flow_from_directory(directory=TEST_PATH, target_size=(IM_HEIGHT, IM_WIDTH), classes=['0_sea_lions', '1_background'], shuffle=False, batch_size=BATCH_SIZE):\n",
    "        yield x"
   ]
  },
  {
   "cell_type": "code",
   "execution_count": null,
   "metadata": {},
   "outputs": [],
   "source": [
    "# Plot ROC\n",
    "Y_tmp = []\n",
    "gen = prediction_generator_ffd()\n",
    "Y_pred_bin = model.predict_generator(gen, steps=TEST_STEPS)\n",
    "Y_pred = Y_pred_bin[:, 0]\n",
    "print(Y_pred)\n",
    "Y_roc_true_bin = np.array([[1, 0]]*SL_TEST_SIZE + [[0, 1]]*BKG_TEST_SIZE)\n",
    "Y_roc_true = Y_roc_true_bin[:, 0]\n",
    "print(Y_roc_true)\n",
    "# print(np.shape(Y_roc_true))\n",
    "# print(np.shape(Y_pred))\n",
    "fpr, tpr, _ = metrics.roc_curve(Y_roc_true, Y_pred)\n",
    "plt.figure()\n",
    "plt.plot(fpr, tpr, color='darkorange', lw=2, label='ROC curve')\n",
    "plt.plot([0, 1], [0, 1], color='navy', lw=2, linestyle='--')\n",
    "plt.xlim([0.0, 1.0])\n",
    "plt.ylim([0.0, 1.05])\n",
    "plt.xlabel('False Positive Rate', color='white')\n",
    "plt.ylabel('True Positive Rate', color='white')\n",
    "plt.tick_params(which='both', color='white')\n",
    "plt.legend(loc='lower right')\n",
    "plt.show()"
   ]
  },
  {
   "cell_type": "code",
   "execution_count": null,
   "metadata": {},
   "outputs": [],
   "source": [
    "# Evaluate AUC of the ROC\n",
    "metrics.roc_auc_score(Y_roc_true, Y_pred)"
   ]
  },
  {
   "cell_type": "code",
   "execution_count": null,
   "metadata": {},
   "outputs": [],
   "source": [
    "#Compute precision and recall\n",
    "\n",
    "tp = 0\n",
    "fp = 0\n",
    "tn = 0\n",
    "fn = 0\n",
    "\n",
    "for i in range(len(Y_pred)):\n",
    "    if Y_pred[i] > 0.5:\n",
    "        if Y_roc_true[i] == 1:\n",
    "            tp += 1\n",
    "        else:\n",
    "            fp += 1\n",
    "    else:\n",
    "        if Y_roc_true[i] == 1:\n",
    "            fn += 1\n",
    "        else:\n",
    "            tn += 1\n",
    "            \n",
    "sea_lion_prec = tp / (tp + fp)\n",
    "sea_lion_reca = tp / (tp + fn)\n",
    "background_prec = tn / (tn + fn)\n",
    "background_reca = tn / (tn + fp)\n",
    "\n",
    "print('sea lions: \\nprecision %8.4f, recall %8.4f' % (sea_lion_prec, sea_lion_reca))\n",
    "print('background: \\nprecision %8.4f, recall %8.4f' % (background_prec, background_reca))"
   ]
  },
  {
   "cell_type": "code",
   "execution_count": null,
   "metadata": {},
   "outputs": [],
   "source": [
    "#Plot precision-recall curve \n",
    "\n",
    "average_precision = average_precision_score(Y_roc_true, Y_pred)\n",
    "precision, recall, _ = precision_recall_curve(Y_roc_true, Y_pred)\n",
    "plt.step(recall, precision, color='b', alpha=0.2, where='post')\n",
    "plt.fill_between(recall, precision, step='post', alpha=0.2, color='b')\n",
    "plt.xlabel('Recall')\n",
    "plt.ylabel('Precision')\n",
    "plt.ylim([0.0, 1.05])\n",
    "plt.xlim([0.0, 1.0])\n",
    "plt.title('2-class Precision-Recall curve: AP={0:0.2f}'.format(average_precision))"
   ]
  },
  {
   "cell_type": "code",
   "execution_count": null,
   "metadata": {},
   "outputs": [],
   "source": [
    "# Free memory\n",
    "\n",
    "X_test = []\n",
    "Y_test = []"
   ]
  },
  {
   "cell_type": "code",
   "execution_count": null,
   "metadata": {},
   "outputs": [],
   "source": [
    "# Save wrong predicted patches\n",
    "\n",
    "lst = []\n",
    "wrong_lst = []\n",
    "tmp = os.listdir(TEST_PATH + 'sea_lions')\n",
    "for elem in tmp:\n",
    "    lst.append(list((TEST_PATH + 'sea_lions/' + elem, 'sea_lion')))\n",
    "tmp = rand.sample(os.listdir(TEST_PATH + 'background'), SL_TEST_SIZE)\n",
    "for elem in tmp:\n",
    "    lst.append(list((TEST_PATH + 'background/' + elem, 'background')))\n",
    "for elem in lst:\n",
    "    img = cv2.imread(elem[0])\n",
    "    X = np.reshape(img_to_array(img), (1, 96, 96, 3))\n",
    "    X.astype('float32')\n",
    "    X /= 255\n",
    "    if elem[1] == 'sea_lion':\n",
    "        expected_class = [1, 0]\n",
    "    else:\n",
    "        expected_class = [0, 1]\n",
    "    prediction = model.predict(X, batch_size=1)\n",
    "    if prediction[0][0] > prediction[0][1]:\n",
    "        predicted_class = [1, 0]\n",
    "    else:\n",
    "        predicted_class = [0, 1]\n",
    "    if not(expected_class == predicted_class):\n",
    "        wrong_lst.append(list((elem[0], elem[1], prediction[0][0], prediction[0][1])))\n",
    "\n",
    "wrong_prediction_df = pd.DataFrame(data=wrong_lst, columns=[\"image_path\", \"expected_class\", \"sl_probability\", \"bkg_probability\"])\n",
    "wrong_prediction_df.to_csv(\"./wrong_predictions.csv\", index=False)"
   ]
  },
  {
   "cell_type": "code",
   "execution_count": null,
   "metadata": {},
   "outputs": [],
   "source": [
    "wrong_prediction_df = pd.read_csv(\"./wrong_predictions.csv\")\n",
    "for row in wrong_prediction_df.sample(10).iterrows():\n",
    "   \n",
    "    image = cv2.imread(row[1]['image_path'])\n",
    "    image = cv2.cvtColor(image, cv2.COLOR_BGR2RGB)\n",
    "    preds = [row[1]['sl_probability'], row[1]['bkg_probability']]\n",
    "    plt.imshow(image)\n",
    "    plt.axis('off')\n",
    "    \n",
    "    plt.figure()\n",
    "    order = list(reversed(range(len(preds))))\n",
    "    labels = ['sea lion', 'background']\n",
    "    plt.barh(order, preds, alpha=0.5)\n",
    "    plt.yticks(order, labels, color='white')\n",
    "    plt.xlabel('Probability', color='white')\n",
    "    plt.xlim(0, 1.01)\n",
    "    plt.tick_params(which='both', color='white')\n",
    "    plt.tight_layout()\n",
    "    plt.show()"
   ]
  }
 ],
 "metadata": {
  "kernelspec": {
   "display_name": "Python 3",
   "language": "python",
   "name": "python3"
  },
  "language_info": {
   "codemirror_mode": {
    "name": "ipython",
    "version": 3
   },
   "file_extension": ".py",
   "mimetype": "text/x-python",
   "name": "python",
   "nbconvert_exporter": "python",
   "pygments_lexer": "ipython3",
   "version": "3.5.2"
  }
 },
 "nbformat": 4,
 "nbformat_minor": 1
}
