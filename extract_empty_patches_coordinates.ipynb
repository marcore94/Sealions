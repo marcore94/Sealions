{
 "cells": [
  {
   "cell_type": "code",
   "execution_count": 1,
   "metadata": {},
   "outputs": [],
   "source": [
    "import numpy as np\n",
    "import random\n",
    "import pandas as pd\n",
    "import cv2"
   ]
  },
  {
   "cell_type": "markdown",
   "metadata": {},
   "source": [
    "After the sea lions coordinates extraction we proceeded to the extraction of the background patches coordinates. To do so we divided each image in a grid composed of 96x96 cells, then we mapped the sea lions coordinates of the image on the overlapping cells in the grid to exclude them. After that we simply retrived the center of all the remaining cells."
   ]
  },
  {
   "cell_type": "code",
   "execution_count": 2,
   "metadata": {},
   "outputs": [],
   "source": [
    "# Use a random seed\n",
    "random.seed(42)"
   ]
  },
  {
   "cell_type": "code",
   "execution_count": 3,
   "metadata": {},
   "outputs": [],
   "source": [
    "# Read file with sea lions patches coordinates\n",
    "sealions_train_df = pd.read_csv('./sealions_train.csv')\n",
    "sealions_validation_df = pd.read_csv('./sealions_validation.csv')\n",
    "sealions_test_df = pd.read_csv('./sealions_test.csv')"
   ]
  },
  {
   "cell_type": "code",
   "execution_count": 4,
   "metadata": {},
   "outputs": [],
   "source": [
    "def get_empty_coordinates(sealions_df):\n",
    "    empty = []\n",
    "    file_names = sealions_df.filename.unique()\n",
    "    # Loop on each file\n",
    "    for file in file_names:\n",
    "        # Select rows from data frame with same name file\n",
    "        df = sealions_df[sealions_df['filename'] == file]\n",
    "        # Get image size\n",
    "        image = cv2.imread(\"./kaggle_sea_lions/Train/\" + file)\n",
    "        IM_SIZE_Y, IM_SIZE_X, _ = image.shape\n",
    "        # Create array for coordinates to exclude\n",
    "        exclude = []\n",
    "        # Create array for empty patches\n",
    "        empty_patches_coord = []\n",
    "        # Loop on each row of the specified file\n",
    "        for row in df.iterrows():\n",
    "            # Select coordinates for patches where sea lions are present\n",
    "            p_1 = ((((int(row[1]['coord_x']) + 48) // 96) * 96) + 48, (((int(row[1]['coord_y']) + 48) // 96) * 96) + 48)\n",
    "            p_2 = ((((int(row[1]['coord_x']) + 48) // 96) * 96) + 48, (((int(row[1]['coord_y']) - 48) // 96) * 96) + 48)\n",
    "            p_3 = ((((int(row[1]['coord_x']) - 48) // 96) * 96) + 48, (((int(row[1]['coord_y']) + 48) // 96) * 96) + 48)\n",
    "            p_4 = ((((int(row[1]['coord_x']) - 48) // 96) * 96) + 48, (((int(row[1]['coord_y']) - 48) // 96) * 96) + 48)\n",
    "            # Add coordinates to list\n",
    "            exclude.append(p_1)\n",
    "            exclude.append(p_2)\n",
    "            exclude.append(p_3)\n",
    "            exclude.append(p_4)\n",
    "        # Generate coordinates of all square patches 96x96 such that they don't intersect between themselves\n",
    "        for i in range(48, IM_SIZE_X - 48, 96):\n",
    "            for j in range(48, IM_SIZE_Y - 48, 96):\n",
    "                empty_patches_coord.append((i,j))\n",
    "        # Keep patches that does not contain sea lions with sets difference\n",
    "        empty_patches_coord = list(set(empty_patches_coord) - set(exclude))\n",
    "        for coord in empty_patches_coord:\n",
    "            empty.append(list((int(coord[0]), int(coord[1]), \"background\", file)))\n",
    "    return empty\n",
    "\n",
    "\n",
    "empty_train = get_empty_coordinates(pd.concat([sealions_train_df, sealions_validation_df]))\n",
    "empty_test = get_empty_coordinates(sealions_test_df)"
   ]
  },
  {
   "cell_type": "markdown",
   "metadata": {},
   "source": [
    "As before we saved the coordinates in 3 .csv files: one for training, one for validation and the last for testing (the division of the patches was based on the original images of provenience between train and test, while the validation set was extracted by random sampling of the test set)"
   ]
  },
  {
   "cell_type": "code",
   "execution_count": 5,
   "metadata": {},
   "outputs": [],
   "source": [
    "(length, _) = sealions_validation_df.shape\n",
    "random.shuffle(empty_train)\n",
    "empty_validation = empty_train[:length]\n",
    "empty_train = empty_train[length:]\n",
    "\n",
    "empty_train_df = pd.DataFrame(data=empty_train, columns=[\"coord_x\", \"coord_y\", \"class\", \"filename\"])\n",
    "empty_train_df.to_csv(\"./empty_train.csv\", index=False)\n",
    "\n",
    "empty_validation_df = pd.DataFrame(data=empty_validation, columns=[\"coord_x\", \"coord_y\", \"class\", \"filename\"])\n",
    "empty_validation_df.to_csv(\"./empty_validation.csv\", index=False)\n",
    "\n",
    "empty_test_df = pd.DataFrame(data=empty_test, columns=[\"coord_x\", \"coord_y\", \"class\", \"filename\"])\n",
    "empty_test_df.to_csv(\"./empty_test.csv\", index=False)"
   ]
  }
 ],
 "metadata": {
  "kernelspec": {
   "display_name": "Python 3",
   "language": "python",
   "name": "python3"
  },
  "language_info": {
   "codemirror_mode": {
    "name": "ipython",
    "version": 3
   },
   "file_extension": ".py",
   "mimetype": "text/x-python",
   "name": "python",
   "nbconvert_exporter": "python",
   "pygments_lexer": "ipython3",
   "version": "3.6.4"
  }
 },
 "nbformat": 4,
 "nbformat_minor": 1
}
