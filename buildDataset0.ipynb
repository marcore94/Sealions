{
 "cells": [
  {
   "cell_type": "code",
   "execution_count": 1,
   "metadata": {},
   "outputs": [],
   "source": [
    "import cv2\n",
    "import matplotlib.pyplot as plt\n",
    "import skimage.feature\n",
    "import pandas as pd\n",
    "%matplotlib inline"
   ]
  },
  {
   "cell_type": "markdown",
   "metadata": {},
   "source": [
    "This is the notebook for the actual extraction of the patches of the first network we trained, for each of the 2 classes we used 2 .csv files: one for the train set, that will be later split in training phase to obtain the validation set, and one for the test set."
   ]
  },
  {
   "cell_type": "code",
   "execution_count": 2,
   "metadata": {},
   "outputs": [],
   "source": [
    "# Read coordinates from files\n",
    "sealions_df_train = pd.read_csv('./sealions_train.csv', dtype={\"coord_x\": int, \"coord_y\": int, \"class\": str, \"filename\": str})\n",
    "sealions_df_test = pd.read_csv('./sealions_test.csv', dtype={\"coord_x\": int, \"coord_y\": int, \"class\": str, \"filename\": str})\n",
    "empty_df_train = pd.read_csv('./empty_train.csv', dtype={\"coord_x\": int, \"coord_y\": int, \"filename\": str})\n",
    "empty_df_test = pd.read_csv('./empty_test.csv', dtype={\"coord_x\": int, \"coord_y\": int, \"filename\": str})"
   ]
  },
  {
   "cell_type": "markdown",
   "metadata": {},
   "source": [
    "The function to extract the sea lions implemented an additional control to avoid patches that exceeded the borders of the image"
   ]
  },
  {
   "cell_type": "code",
   "execution_count": 3,
   "metadata": {},
   "outputs": [],
   "source": [
    "# Load images and extract 96x96 patches for sea lions\n",
    "def extract_sea_lions(sea_lions_df, path):\n",
    "    i = 0\n",
    "    file_names = sea_lions_df.filename.unique()\n",
    "    for file in file_names:\n",
    "        image = cv2.imread(\"./kaggle_sea_lions/Train/\" + file)\n",
    "        df = sea_lions_df[sea_lions_df['filename'] == file]\n",
    "        for row in df.iterrows():\n",
    "            x = row[1]['coord_x']\n",
    "            y = row[1]['coord_y']\n",
    "            if x < 48:\n",
    "                x = 0\n",
    "            elif x > len(image[0]) - 48:\n",
    "                x = len(image[0]) - 96\n",
    "            else:\n",
    "                x = x - 48\n",
    "            if y < 48:\n",
    "                y = 0\n",
    "            elif y > len(image) - 48:\n",
    "                y = len(image) - 96\n",
    "            else:\n",
    "                y = y - 48\n",
    "            patch = image[y:y+96, x:x+96, :]\n",
    "            cv2.imwrite(\"./patches/\" + path + \"/\" + str(i) + \".jpg\", patch)\n",
    "            i = i + 1"
   ]
  },
  {
   "cell_type": "code",
   "execution_count": 4,
   "metadata": {},
   "outputs": [],
   "source": [
    "# Load images and extract 96x96 patches for background\n",
    "def extract_background(empty_df, path):\n",
    "    i = 0\n",
    "    file_names = empty_df.filename.unique()\n",
    "    for file in file_names:\n",
    "        image = cv2.imread(\"./kaggle_sea_lions/Train/\" + file)\n",
    "        df = empty_df[empty_df['filename'] == file]\n",
    "        for row in df.iterrows():\n",
    "            x = row[1]['coord_x']\n",
    "            y = row[1]['coord_y']\n",
    "            patch = image[y-48:y+48, x-48:x+48, :]\n",
    "            cv2.imwrite(\"./patches/\" + path + \"/\" + str(i) + \".jpg\", patch)\n",
    "            i = i + 1"
   ]
  },
  {
   "cell_type": "code",
   "execution_count": 5,
   "metadata": {},
   "outputs": [],
   "source": [
    "# Extract patches\n",
    "extract_sea_lions(sealions_df_train, \"sealions_train\")\n",
    "extract_sea_lions(sealions_df_test, \"sealions_test\")\n",
    "extract_background(empty_df_train, \"background_train\")\n",
    "extract_background(empty_df_test, \"background_test\")"
   ]
  },
  {
   "cell_type": "markdown",
   "metadata": {},
   "source": [
    "N.B. since the first training used directly a balanced dataset "
   ]
  }
 ],
 "metadata": {
  "kernelspec": {
   "display_name": "Python 3",
   "language": "python",
   "name": "python3"
  },
  "language_info": {
   "codemirror_mode": {
    "name": "ipython",
    "version": 3
   },
   "file_extension": ".py",
   "mimetype": "text/x-python",
   "name": "python",
   "nbconvert_exporter": "python",
   "pygments_lexer": "ipython3",
   "version": "3.5.2"
  }
 },
 "nbformat": 4,
 "nbformat_minor": 2
}
