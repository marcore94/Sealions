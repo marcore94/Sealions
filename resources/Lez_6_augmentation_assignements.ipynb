{
 "cells": [
  {
   "cell_type": "markdown",
   "metadata": {
    "slideshow": {
     "slide_type": "slide"
    }
   },
   "source": [
    "# A closer look at the practice of Data Augmentation"
   ]
  },
  {
   "cell_type": "markdown",
   "metadata": {},
   "source": [
    "First, some preparation (import and data loading)"
   ]
  },
  {
   "cell_type": "code",
   "execution_count": null,
   "metadata": {},
   "outputs": [],
   "source": [
    "%matplotlib inline\n",
    "\n",
    "# General imports\n",
    "import matplotlib.pyplot as plt\n",
    "import pathlib\n",
    "import skimage\n",
    "import skimage.transform\n",
    "import skimage.viewer\n",
    "import pandas as pd\n",
    "import numpy as np\n",
    "import time\n",
    "import keras.utils.np_utils\n",
    "from tqdm import tqdm\n",
    "\n",
    "# Setup to show interactive jupyter widgets\n",
    "from IPython.display import Image, display\n",
    "from ipywidgets import interact, fixed\n",
    "import ipywidgets as widgets\n",
    "def imgplotList(i,data):\n",
    "    plt.figure(figsize=(10,10))\n",
    "    plt.imshow(data[i],interpolation=\"nearest\")\n",
    "    plt.show()"
   ]
  },
  {
   "cell_type": "code",
   "execution_count": null,
   "metadata": {
    "slideshow": {
     "slide_type": "slide"
    }
   },
   "outputs": [],
   "source": [
    "# Define where datasets are located\n",
    "dataset_directory = pathlib.Path(\"..\")/\"datasets\"/\"final split\"\n",
    "\n",
    "# Define which datasets we should consider.\n",
    "# Each dataset is a directory withing dataset_directory\n",
    "# and must contain three subdirectories: (c0, c1, c2) for (rock, paper, scissors).\n",
    "# dnames = [\"testing.small\",\"Dpolimi\",\"D1.small\",\"D2.small\",\"D3.small\",\"D4.small\",\"D5.small\",\"D6.small\"]\n",
    "dnames = [\"Dpolimi\"]\n",
    "\n",
    "\n",
    "# Now check the data\n",
    "ddirs=[dataset_directory/dn for dn in dnames] # directories of the dataset\n",
    "cdirs={}\n",
    "for ddir in ddirs:\n",
    "    cdirs.update({ddir/\"c0\":0,\n",
    "                  ddir/\"c1\":1,\n",
    "                  ddir/\"c2\":2})\n",
    "names = [\"rock\", \"paper\", \"scissors\"]\n",
    "for cdir,cdir_class in cdirs.items():\n",
    "    assert(cdir.exists())\n",
    "    print(\"Found directory {} containing class {}\".format(cdir,names[cdir_class]))"
   ]
  },
  {
   "cell_type": "code",
   "execution_count": null,
   "metadata": {
    "scrolled": false
   },
   "outputs": [],
   "source": [
    "imagesize = 200\n",
    "\n",
    "dataset=[]\n",
    "\n",
    "import warnings\n",
    "\n",
    "for cdir,cn in tqdm(list(cdirs.items())):\n",
    "    for f in list(cdir.glob(\"*\")):\n",
    "        try:\n",
    "            im=skimage.io.imread(f)\n",
    "        except (OSError, ValueError) as e:\n",
    "            warnings.warn(\"ignoring {} due to exception {}\".format(f,str(e)))\n",
    "            continue\n",
    "            \n",
    "        h,w=im.shape[0:2] # height, width\n",
    "        sz=min(h,w)\n",
    "        im=im[(h//2-sz//2):(h//2+sz//2),(w//2-sz//2):(w//2+sz//2),:] # defines the central square        \n",
    "        with warnings.catch_warnings():\n",
    "            warnings.simplefilter(\"ignore\")\n",
    "            im=skimage.img_as_ubyte(skimage.transform.resize(im,(imagesize,imagesize))) # resize it to 500x500, whatever the original resolution\n",
    "            \n",
    "        dataset.append({\n",
    "            \"file\":f,\n",
    "            \"label\":cn,\n",
    "            \"image\":im})\n",
    "        \n",
    "print(\"Done\")"
   ]
  },
  {
   "cell_type": "markdown",
   "metadata": {
    "slideshow": {
     "slide_type": "slide"
    }
   },
   "source": [
    "We make a pandas dataframe for the dataset, and create a \"dn\" field containing the name of the dataset from which each image comes (as the name of the directory it was read from)."
   ]
  },
  {
   "cell_type": "code",
   "execution_count": null,
   "metadata": {},
   "outputs": [],
   "source": [
    "dataset=pd.DataFrame(dataset)\n",
    "dataset[\"dn\"]=dataset[\"file\"].apply(lambda x: x.parent.parts[-2])"
   ]
  },
  {
   "cell_type": "markdown",
   "metadata": {
    "slideshow": {
     "slide_type": "slide"
    }
   },
   "source": [
    "## A closer look to the practice of data augmentation"
   ]
  },
  {
   "cell_type": "code",
   "execution_count": null,
   "metadata": {},
   "outputs": [],
   "source": [
    "im = list(dataset.sample(1)[\"image\"])[0]\n",
    "plt.imshow(im)"
   ]
  },
  {
   "cell_type": "code",
   "execution_count": null,
   "metadata": {
    "slideshow": {
     "slide_type": "-"
    }
   },
   "outputs": [],
   "source": [
    "ims = list(dataset.sample(3)[\"image\"])"
   ]
  },
  {
   "cell_type": "code",
   "execution_count": null,
   "metadata": {
    "slideshow": {
     "slide_type": "slide"
    }
   },
   "outputs": [],
   "source": [
    "def prepare(im, sz, normalize, rot):\n",
    "    ...\n",
    "    return imr\n",
    "\n",
    "@interact(sz=widgets.IntSlider(min=2,max=32),\n",
    "          normalize = widgets.ToggleButton(),\n",
    "          rot=widgets.IntSlider(min=0,max=4),\n",
    "          continuous_update=False)\n",
    "def f(sz,normalize,rot):\n",
    "    fig,axs = plt.subplots(ncols=len(ims),figsize=(18,6))\n",
    "    for im,ax in zip(ims,axs):\n",
    "        ax.imshow(prepare(im,sz,normalize,rot))\n",
    "        "
   ]
  },
  {
   "cell_type": "markdown",
   "metadata": {
    "slideshow": {
     "slide_type": "slide"
    }
   },
   "source": [
    "## Let's now edit the cell above to make some basic augmentations / preprocessing\n",
    "First, we visualize the effect of normalization.\n",
    "\n",
    "Then, we implement:\n",
    "- resizing\n",
    "- 90 deg rotations\n",
    "- flipping"
   ]
  },
  {
   "cell_type": "code",
   "execution_count": null,
   "metadata": {
    "scrolled": false
   },
   "outputs": [],
   "source": [
    "def transform(im,sz,rot90times,flip,normalize):\n",
    "    imr = skimage.transform.resize(im,(sz,sz))\n",
    "    if(flip):\n",
    "        imr = np.fliplr(imr)\n",
    "    imr = np.rot90(imr, k=rot90times)\n",
    "    if(normalize):\n",
    "        imr = np.clip((imr-np.mean(imr))/np.std(imr) * 0.2 + 0.5,0,1)\n",
    "    return imr\n",
    "\n",
    "@interact(sz = widgets.IntSlider(min=1,max=60,value=30),\n",
    "          rot90times = widgets.IntSlider(min=0,max=4),\n",
    "          flip = widgets.ToggleButton(),\n",
    "          normalize = widgets.ToggleButton(),\n",
    "          continuous_update=False)\n",
    "def f(sz,rot90times,flip,normalize):\n",
    "    fig,axs = plt.subplots(ncols=len(ims),figsize=(18,6))\n",
    "    for im,ax in zip(ims,axs):\n",
    "        ax.imshow(transform(im,sz,rot90times,flip,normalize))"
   ]
  },
  {
   "cell_type": "markdown",
   "metadata": {
    "slideshow": {
     "slide_type": "slide"
    }
   },
   "source": [
    "## Geometric transformations\n",
    "\n",
    "Geometric transformations on images require to manipulate transformation objects"
   ]
  },
  {
   "cell_type": "code",
   "execution_count": null,
   "metadata": {},
   "outputs": [],
   "source": [
    "tf = (skimage.transform.SimilarityTransform(translation = (1,2)) +\n",
    "      skimage.transform.SimilarityTransform(rotation = np.pi/3) +\n",
    "      skimage.transform.SimilarityTransform(translation = (1,2)))\n",
    "tf([[100,0]])"
   ]
  },
  {
   "cell_type": "markdown",
   "metadata": {},
   "source": [
    "Then, we can call the transform object as a function on a list of points."
   ]
  },
  {
   "cell_type": "markdown",
   "metadata": {
    "slideshow": {
     "slide_type": "slide"
    }
   },
   "source": [
    "Transformations can be also chained"
   ]
  },
  {
   "cell_type": "code",
   "execution_count": null,
   "metadata": {
    "scrolled": true,
    "slideshow": {
     "slide_type": "-"
    }
   },
   "outputs": [],
   "source": [
    "tf = (skimage.transform.SimilarityTransform(translation=(20,30)) +\n",
    "      skimage.transform.SimilarityTransform(scale=0.1) +\n",
    "      skimage.transform.SimilarityTransform(translation=(5,5)))\n",
    "tf.params"
   ]
  },
  {
   "cell_type": "code",
   "execution_count": null,
   "metadata": {},
   "outputs": [],
   "source": [
    "tf([[0,0],[1,1]])"
   ]
  },
  {
   "cell_type": "code",
   "execution_count": null,
   "metadata": {},
   "outputs": [],
   "source": [
    "def transform(im,sz,rot90times,flip,normalize):\n",
    "    imr = skimage.transform.resize(im,(sz,sz))\n",
    "    if(flip):\n",
    "        imr = np.fliplr(imr)\n",
    "    imr = np.rot90(imr, k=rot90times)\n",
    "    if(normalize):\n",
    "        imr = np.clip((imr-np.mean(imr))/np.std(imr) * 0.2 + 0.5,0,1)\n",
    "    \n",
    "    return imr\n",
    "\n",
    "@interact(sz = widgets.IntSlider(min=1,max=60,value=30),\n",
    "          rot90times = widgets.IntSlider(min=0,max=4),\n",
    "          flip = widgets.ToggleButton(),\n",
    "          normalize = widgets.ToggleButton(),\n",
    "          continuous_update=False)\n",
    "def f(sz,rot90times,flip,normalize):\n",
    "    fig,axs = plt.subplots(ncols=len(ims),figsize=(18,6))\n",
    "    for im,ax in zip(ims,axs):\n",
    "        ax.imshow(transform(im,sz,rot90times,flip,normalize))"
   ]
  },
  {
   "cell_type": "markdown",
   "metadata": {
    "slideshow": {
     "slide_type": "slide"
    }
   },
   "source": [
    "## Applying a transform to an image\n",
    "\n",
    "```skimage.transform.warp(image, inverse_map, map_args={}, output_shape=None, order=1, mode='constant', cval=0.0, clip=True, preserve_range=False)```\n",
    "\n",
    "Try zooming and rotating an image"
   ]
  },
  {
   "cell_type": "code",
   "execution_count": null,
   "metadata": {},
   "outputs": [],
   "source": [
    "h,w = im.shape[0], im.shape[1]\n",
    "@interact(continuous_update=False,\n",
    "          scale = widgets.FloatSlider(min=0.1,max=11),\n",
    "          rot = widgets.FloatSlider(min=-np.pi,max=+np.pi))\n",
    "def f(scale,rot):\n",
    "    tf = (  ... )\n",
    "    imt = skimage.transform.warp(im, tf.inverse)\n",
    "    fig,(ax0,ax1) = plt.subplots(ncols=2,figsize=(18,8))\n",
    "    ax0.imshow(im)\n",
    "    imt = skimage.transform.warp(im, tf.inverse)\n",
    "    ax1.imshow(imt)"
   ]
  },
  {
   "cell_type": "code",
   "execution_count": null,
   "metadata": {
    "slideshow": {
     "slide_type": "slide"
    }
   },
   "outputs": [],
   "source": [
    "@interact(scale = widgets.FloatSlider(min=0.1,max=3,value=1),\n",
    "          rotation = widgets.FloatSlider(min=-np.pi,max=+np.pi,value=0),\n",
    "          continuous_update=False)\n",
    "def f(scale,rotation):\n",
    "    tf = (  skimage.transform.SimilarityTransform(translation = [-h/2,-w/2]) +\n",
    "            skimage.transform.SimilarityTransform(scale = scale) +\n",
    "            skimage.transform.SimilarityTransform(rotation = rotation) +\n",
    "            skimage.transform.SimilarityTransform(translation = [+h/2,+w/2]))\n",
    "    imt = skimage.transform.warp(im, tf.inverse)\n",
    "    \n",
    "    fig,(ax0,ax1) = plt.subplots(ncols=2,figsize=(18,8))\n",
    "    ax0.imshow(im)\n",
    "    ax1.imshow(imt)"
   ]
  },
  {
   "cell_type": "markdown",
   "metadata": {
    "slideshow": {
     "slide_type": "slide"
    }
   },
   "source": [
    "## The piecewise affine transform for elastic deformations\n",
    "![image.png](attachment:image.png)"
   ]
  },
  {
   "cell_type": "code",
   "execution_count": null,
   "metadata": {
    "slideshow": {
     "slide_type": "slide"
    }
   },
   "outputs": [],
   "source": [
    "@interact(xdisp = widgets.FloatSlider(min=0.1,max=0.9,value=0.5),\n",
    "          ydisp = widgets.FloatSlider(min=0.1,max=0.9,value=0.5),\n",
    "          continuous_update=False)\n",
    "def f(xdisp,ydisp):\n",
    "    tf = skimage.transform.PiecewiseAffineTransform()\n",
    "    points =  np.array([[0,0],    [0,1],    [1,1],    [1,0],    [0.5,0.5]])\n",
    "    tpoints=  np.array([[0,0],    [0,1],    [1,1],    [1,0],    [xdisp,ydisp]])\n",
    "    tf.estimate(points * np.array([[w,h]]), tpoints * np.array([[w,h]]))\n",
    "    imt = skimage.transform.warp(im, tf.inverse)\n",
    "    \n",
    "    fig,(ax0,ax1) = plt.subplots(ncols=2,figsize=(18,8))\n",
    "    ax0.imshow(im)\n",
    "    ax1.imshow(imt)"
   ]
  },
  {
   "cell_type": "markdown",
   "metadata": {
    "slideshow": {
     "slide_type": "slide"
    }
   },
   "source": [
    "## Assignment 1"
   ]
  },
  {
   "cell_type": "code",
   "execution_count": null,
   "metadata": {
    "slideshow": {
     "slide_type": "-"
    }
   },
   "outputs": [],
   "source": [
    "# 1. Download mnist\n",
    "from keras.datasets import mnist\n",
    "(x_train, y_train), (x_test, y_test) = mnist.load_data()\n",
    "\n",
    "x_train.shape, y_train.shape\n",
    "y_test.shape"
   ]
  },
  {
   "cell_type": "code",
   "execution_count": null,
   "metadata": {},
   "outputs": [],
   "source": [
    "# 2. Sample the first 5 training elements from each digit\n",
    "for i in range(10):\n",
    "    print(\"Use only these elements for digit \"+str(i), np.where(y_train == i)[0][:5])"
   ]
  },
  {
   "cell_type": "code",
   "execution_count": null,
   "metadata": {},
   "outputs": [],
   "source": [
    "# 3. Train a decent CNN with a simple lenet-like architecture.  Augmentation will help."
   ]
  },
  {
   "cell_type": "markdown",
   "metadata": {
    "slideshow": {
     "slide_type": "slide"
    }
   },
   "source": [
    "## Assigment 2\n",
    "Apply all you have learned on the new packages dataset (see course website) which includes 2000+ images in 4 classes.  Compare a feature-based approach (from first week) to a CNN-based approach.\n",
    "\n",
    "They key for CNN success in this context is doing proper data augmentation!"
   ]
  }
 ],
 "metadata": {
  "celltoolbar": "Slideshow",
  "kernelspec": {
   "display_name": "Python 3",
   "language": "python",
   "name": "python3"
  },
  "language_info": {
   "codemirror_mode": {
    "name": "ipython",
    "version": 3
   },
   "file_extension": ".py",
   "mimetype": "text/x-python",
   "name": "python",
   "nbconvert_exporter": "python",
   "pygments_lexer": "ipython3",
   "version": "3.6.4"
  },
  "livereveal": {
   "scroll": true
  }
 },
 "nbformat": 4,
 "nbformat_minor": 2
}
