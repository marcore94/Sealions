{
 "cells": [
  {
   "cell_type": "code",
   "execution_count": null,
   "metadata": {
    "collapsed": true
   },
   "outputs": [],
   "source": [
    "import matplotlib.pyplot as plt\n",
    "import skimage.feature\n",
    "import pandas as pd\n",
    "import random\n",
    "import cv2\n",
    "from joblib import Parallel, delayed\n",
    "%matplotlib inline"
   ]
  },
  {
   "cell_type": "code",
   "execution_count": null,
   "metadata": {},
   "outputs": [],
   "source": [
    "SL_TRAIN_PATH = './data_set/train/sea_lions/'\n",
    "SL_VALIDATION_PATH = './data_set/validation/sea_lions/'\n",
    "SL_TEST_PATH = './data_set/test/sea_lions/'\n",
    "\n",
    "BKG_TRAIN_PATH = './data_set/train/background/'\n",
    "BKG_VALIDATION_PATH = './data_set/validation/background/'\n",
    "BKG_TEST_PATH = './data_set/test/background/'"
   ]
  },
  {
   "cell_type": "code",
   "execution_count": null,
   "metadata": {},
   "outputs": [],
   "source": [
    "# Read coordinates from files\n",
    "sea_lions_df_train = pd.read_csv('./sealions_train.csv', dtype={\"coord_x\": int, \"coord_y\": int, \"class\": str, \"filename\": str})\n",
    "sea_lions_df_validation = pd.read_csv('./sealions_validation.csv', dtype={\"coord_x\": int, \"coord_y\": int, \"class\": str, \"filename\": str})\n",
    "sea_lions_df_test = pd.read_csv('./sealions_test.csv', dtype={\"coord_x\": int, \"coord_y\": int, \"class\": str, \"filename\": str})\n",
    "empty_df_train = pd.read_csv('./empty_train.csv', dtype={\"coord_x\": int, \"coord_y\": int, \"class\": str, \"filename\": str})\n",
    "empty_df_validation = pd.read_csv('./empty_validation.csv', dtype={\"coord_x\": int, \"coord_y\": int, \"class\": str, \"filename\": str})\n",
    "empty_df_test = pd.read_csv('./empty_test.csv', dtype={\"coord_x\": int, \"coord_y\": int, \"class\": str, \"filename\": str})\n",
    "\n",
    "# Use a random seed\n",
    "random.seed(42)"
   ]
  },
  {
   "cell_type": "code",
   "execution_count": null,
   "metadata": {},
   "outputs": [],
   "source": [
    "# Save 96x96 patches for sea lions\n",
    "def save_sea_lion_patch(image, coord_x, coord_y, path, number):\n",
    "    if coord_x < 72:\n",
    "        coord_x = 0\n",
    "    elif coord_x > len(image[0]) - 72:\n",
    "        coord_x = len(image[0]) - 144\n",
    "    else:\n",
    "        coord_x = coord_x - 72\n",
    "    if coord_y < 72:\n",
    "        coord_y = 0\n",
    "    elif coord_y > len(image) - 72:\n",
    "        coord_y = len(image) - 144\n",
    "    else:\n",
    "        coord_y = coord_y - 72\n",
    "    patch = image[coord_y:coord_y+144, coord_x:coord_x+144, :]\n",
    "    cv2.imwrite(path + str(number) + '.jpg', patch)\n",
    "    \n",
    "    \n",
    "# Save 96x96 patches for background\n",
    "def save_background_patch(image, coord_x, coord_y, path, number):\n",
    "    patch = image[coord_y-48:coord_y+48, coord_x-48:coord_x+48, :]\n",
    "    cv2.imwrite(path + str(number) + '.jpg', patch)"
   ]
  },
  {
   "cell_type": "code",
   "execution_count": null,
   "metadata": {},
   "outputs": [],
   "source": [
    "def gen(img, path, lst):\n",
    "    for l in lst:\n",
    "        row = l[0]\n",
    "        n = l[1]\n",
    "        yield img, row[1]['coord_x'], row[1]['coord_y'], path, n\n",
    "        \n",
    "        \n",
    "def extract_sea_lions(sl_df, path):\n",
    "    i = 0\n",
    "    file_names = sl_df.filename.unique()\n",
    "    for file in file_names:\n",
    "        image = cv2.imread(\"./kaggle_sea_lions/Train/\" + file)\n",
    "        df = sl_df[sl_df['filename'] == file]\n",
    "        Parallel(n_jobs=4, verbose=1, backend=\"threading\")(map(delayed(save_sea_lion_patch), list(gen(image, path, list(zip(df.iterrows(), range(i, i+len(df))))))))\n",
    "        i += len(df)\n",
    "        \n",
    "\n",
    "def extract_background(bkg_df, path):\n",
    "    i = 0\n",
    "    file_names = bkg_df.filename.unique()\n",
    "    for file in file_names:\n",
    "        image = cv2.imread(\"./kaggle_sea_lions/Train/\" + file)\n",
    "        df = bkg_df[bkg_df['filename'] == file]\n",
    "        Parallel(n_jobs=4, verbose=1, backend=\"threading\")(map(delayed(save_background_patch), list(gen(image, path, list(zip(df.iterrows(), range(i, i+len(df))))))))\n",
    "        i += len(df)"
   ]
  },
  {
   "cell_type": "code",
   "execution_count": null,
   "metadata": {},
   "outputs": [],
   "source": [
    "# Extract background train patches\n",
    "extract_background(empty_df_train, BKG_TRAIN_PATH)\n",
    "\n",
    "# Extract background validation patches\n",
    "extract_background(empty_df_validation, BKG_VALIDATION_PATH)\n",
    "\n",
    "# extract background test patches\n",
    "extract_background(empty_df_test, BKG_TEST_PATH)"
   ]
  },
  {
   "cell_type": "code",
   "execution_count": null,
   "metadata": {},
   "outputs": [],
   "source": [
    "# Extract sea lions train patches\n",
    "extract_sea_lions(sea_lions_df_train, SL_TRAIN_PATH)\n",
    "\n",
    "# Extract sea lions validation patches\n",
    "extract_sea_lions(sea_lions_df_validation, SL_VALIDATION_PATH)\n",
    "\n",
    "# extract sea lions test patches\n",
    "extract_sea_lions(sea_lions_df_test, SL_TEST_PATH)"
   ]
  }
 ],
 "metadata": {
  "kernelspec": {
   "display_name": "Python 2",
   "language": "python",
   "name": "python2"
  },
  "language_info": {
   "codemirror_mode": {
    "name": "ipython",
    "version": 2
   },
   "file_extension": ".py",
   "mimetype": "text/x-python",
   "name": "python",
   "nbconvert_exporter": "python",
   "pygments_lexer": "ipython2",
   "version": "2.7.6"
  }
 },
 "nbformat": 4,
 "nbformat_minor": 0
}
