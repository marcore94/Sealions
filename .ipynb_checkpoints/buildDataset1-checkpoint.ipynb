{
 "cells": [
  {
   "cell_type": "code",
   "execution_count": 1,
   "metadata": {},
   "outputs": [],
   "source": [
    "import matplotlib.pyplot as plt\n",
    "import skimage.feature\n",
    "import pandas as pd\n",
    "import cv2\n",
    "from joblib import Parallel, delayed\n",
    "%matplotlib inline"
   ]
  },
  {
   "cell_type": "markdown",
   "metadata": {},
   "source": [
    "This notebook was used to generate the data set for the second training. Differently from the previous version we used 3 .csv files for each class to store the coordinates, since the one for the validation set was generated separately."
   ]
  },
  {
   "cell_type": "code",
   "execution_count": 2,
   "metadata": {},
   "outputs": [],
   "source": [
    "SL_TRAIN_PATH = './data_set/train/sea_lions/'\n",
    "SL_VALIDATION_PATH = './data_set/validation/sea_lions/'\n",
    "SL_TEST_PATH = './data_set/test/sea_lions/'\n",
    "\n",
    "BKG_TRAIN_PATH = './data_set/train/background/'\n",
    "BKG_VALIDATION_PATH = './data_set/validation/background/'\n",
    "BKG_TEST_PATH = './data_set/test/background/'"
   ]
  },
  {
   "cell_type": "code",
   "execution_count": 3,
   "metadata": {},
   "outputs": [],
   "source": [
    "# Read coordinates from files\n",
    "sea_lions_df_train = pd.read_csv('./sealions_train.csv', dtype={\"coord_x\": int, \"coord_y\": int, \"class\": str, \"filename\": str})\n",
    "sea_lions_df_validation = pd.read_csv('./sealions_validation.csv', dtype={\"coord_x\": int, \"coord_y\": int, \"class\": str, \"filename\": str})\n",
    "sea_lions_df_test = pd.read_csv('./sealions_test.csv', dtype={\"coord_x\": int, \"coord_y\": int, \"class\": str, \"filename\": str})\n",
    "empty_df_train = pd.read_csv('./empty_train.csv', dtype={\"coord_x\": int, \"coord_y\": int, \"class\": str, \"filename\": str})\n",
    "empty_df_validation = pd.read_csv('./empty_validation.csv', dtype={\"coord_x\": int, \"coord_y\": int, \"class\": str, \"filename\": str})\n",
    "empty_df_test = pd.read_csv('./empty_test.csv', dtype={\"coord_x\": int, \"coord_y\": int, \"class\": str, \"filename\": str})"
   ]
  },
  {
   "cell_type": "markdown",
   "metadata": {},
   "source": [
    "As before the functions to extract the sea lions implemented a check to avoid out of boundary patches, but differently from the first version of the data set generator the patches with sea lions for the training are bigger (144x144). This choice was done in order to avoid eventual missing pixels fill after the augmentation since the tranformed patches were cropped centerwise (96x96) during train batch generation."
   ]
  },
  {
   "cell_type": "code",
   "execution_count": 4,
   "metadata": {},
   "outputs": [],
   "source": [
    "# Save 144x144 patches for sea lions\n",
    "def save_sea_lion_patch_ext(t):\n",
    "    image, coord_x, coord_y, path, number = t\n",
    "    if coord_x < 72:\n",
    "        coord_x = 0\n",
    "    elif coord_x > len(image[0]) - 72:\n",
    "        coord_x = len(image[0]) - 144\n",
    "    else:\n",
    "        coord_x = coord_x - 72\n",
    "    if coord_y < 72:\n",
    "        coord_y = 0\n",
    "    elif coord_y > len(image) - 72:\n",
    "        coord_y = len(image) - 144\n",
    "    else:\n",
    "        coord_y = coord_y - 72\n",
    "    patch = image[coord_y:coord_y+144, coord_x:coord_x+144, :]\n",
    "    cv2.imwrite(path + str(number) + '.jpg', patch)\n",
    "    \n",
    "\n",
    "# Save 96x96 patches for sea lions\n",
    "def save_sea_lion_patch(t):\n",
    "    image, coord_x, coord_y, path, number = t\n",
    "    if coord_x < 48:\n",
    "        coord_x = 0\n",
    "    elif coord_x > len(image[0]) - 48:\n",
    "        coord_x = len(image[0]) - 96\n",
    "    else:\n",
    "        coord_x = coord_x - 48\n",
    "    if coord_y < 48:\n",
    "        coord_y = 0\n",
    "    elif coord_y > len(image) - 48:\n",
    "        coord_y = len(image) - 96\n",
    "    else:\n",
    "        coord_y = coord_y - 48\n",
    "    patch = image[coord_y:coord_y+96, coord_x:coord_x+96, :]\n",
    "    cv2.imwrite(path + str(number) + '.jpg', patch)\n",
    "\n",
    "\n",
    "# Save 96x96 patches for background\n",
    "def save_background_patch(t):\n",
    "    image, coord_x, coord_y, path, number = t\n",
    "    patch = image[coord_y-48:coord_y+48, coord_x-48:coord_x+48, :]\n",
    "    cv2.imwrite(path + str(number) + '.jpg', patch)"
   ]
  },
  {
   "cell_type": "markdown",
   "metadata": {},
   "source": [
    "Due to the high dimensions of the background data sets patch extraction was performed concurrently taking advantage of the JobLib library to automate the process"
   ]
  },
  {
   "cell_type": "code",
   "execution_count": 5,
   "metadata": {},
   "outputs": [],
   "source": [
    "def gen(img, path, lst):\n",
    "    for l in lst:\n",
    "        row = l[0]\n",
    "        n = l[1]\n",
    "        yield img, row[1]['coord_x'], row[1]['coord_y'], path, n\n",
    "        \n",
    "        \n",
    "def extract_sea_lions_ext(sl_df, path):\n",
    "    i = 0\n",
    "    file_names = sl_df.filename.unique()\n",
    "    for file in file_names:\n",
    "        image = cv2.imread(\"./kaggle_sea_lions/Train/\" + file)\n",
    "        df = sl_df[sl_df['filename'] == file]\n",
    "        Parallel(n_jobs=4, verbose=0, backend=\"threading\")(map(delayed(save_sea_lion_patch_ext), list(gen(image, path, list(zip(df.iterrows(), range(i, i+len(df))))))))\n",
    "        i += len(df)\n",
    "        \n",
    "        \n",
    "def extract_sea_lions(sl_df, path):\n",
    "    i = 0\n",
    "    file_names = sl_df.filename.unique()\n",
    "    for file in file_names:\n",
    "        image = cv2.imread(\"./kaggle_sea_lions/Train/\" + file)\n",
    "        df = sl_df[sl_df['filename'] == file]\n",
    "        Parallel(n_jobs=4, verbose=0, backend=\"threading\")(map(delayed(save_sea_lion_patch), list(gen(image, path, list(zip(df.iterrows(), range(i, i+len(df))))))))\n",
    "        i += len(df)\n",
    "\n",
    "\n",
    "def extract_background(bkg_df, path):\n",
    "    i = 0\n",
    "    file_names = bkg_df.filename.unique()\n",
    "    for file in file_names:\n",
    "        image = cv2.imread(\"./kaggle_sea_lions/Train/\" + file)\n",
    "        df = bkg_df[bkg_df['filename'] == file]\n",
    "        Parallel(n_jobs=4, verbose=0, backend=\"threading\")(map(delayed(save_background_patch), list(gen(image, path, list(zip(df.iterrows(), range(i, i+len(df))))))))\n",
    "        i += len(df)"
   ]
  },
  {
   "cell_type": "code",
   "execution_count": 6,
   "metadata": {},
   "outputs": [],
   "source": [
    "# Extract background train patches\n",
    "extract_background(empty_df_train, BKG_TRAIN_PATH)\n",
    "\n",
    "# Extract background validation patches\n",
    "extract_background(empty_df_validation, BKG_VALIDATION_PATH)\n",
    "\n",
    "# extract background test patches\n",
    "extract_background(empty_df_test, BKG_TEST_PATH)"
   ]
  },
  {
   "cell_type": "code",
   "execution_count": 7,
   "metadata": {},
   "outputs": [],
   "source": [
    "# Extract sea lions train patches\n",
    "extract_sea_lions_ext(sea_lions_df_train, SL_TRAIN_PATH)\n"
   ]
  },
  {
   "cell_type": "code",
   "execution_count": 8,
   "metadata": {},
   "outputs": [],
   "source": [
    "# Extract sea lions validation patches\n",
    "extract_sea_lions(sea_lions_df_validation, SL_VALIDATION_PATH)\n",
    "\n",
    "# extract sea lions test patches\n",
    "extract_sea_lions(sea_lions_df_test, SL_TEST_PATH)"
   ]
  }
 ],
 "metadata": {
  "kernelspec": {
   "display_name": "Python 3",
   "language": "python",
   "name": "python3"
  },
  "language_info": {
   "codemirror_mode": {
    "name": "ipython",
    "version": 3
   },
   "file_extension": ".py",
   "mimetype": "text/x-python",
   "name": "python",
   "nbconvert_exporter": "python",
   "pygments_lexer": "ipython3",
   "version": "3.6.4"
  }
 },
 "nbformat": 4,
 "nbformat_minor": 1
}
